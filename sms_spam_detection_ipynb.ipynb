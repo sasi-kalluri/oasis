{
  "nbformat": 4,
  "nbformat_minor": 0,
  "metadata": {
    "colab": {
      "provenance": [],
      "authorship_tag": "ABX9TyP9BUUVgvOauWFeHufWNa7b",
      "include_colab_link": true
    },
    "kernelspec": {
      "name": "python3",
      "display_name": "Python 3"
    },
    "language_info": {
      "name": "python"
    }
  },
  "cells": [
    {
      "cell_type": "markdown",
      "metadata": {
        "id": "view-in-github",
        "colab_type": "text"
      },
      "source": [
        "<a href=\"https://colab.research.google.com/github/sasi-kalluri/oasis/blob/main/sms_spam_detection_ipynb.ipynb\" target=\"_parent\"><img src=\"https://colab.research.google.com/assets/colab-badge.svg\" alt=\"Open In Colab\"/></a>"
      ]
    },
    {
      "cell_type": "code",
      "execution_count": null,
      "metadata": {
        "colab": {
          "base_uri": "https://localhost:8080/"
        },
        "id": "JO0LWifG58vN",
        "outputId": "e492ab54-a821-46f9-8f6a-259f09bce4ca"
      },
      "outputs": [
        {
          "output_type": "stream",
          "name": "stdout",
          "text": [
            "     v1                                                 v2 Unnamed: 2  \\\n",
            "0   ham  Go until jurong point, crazy.. Available only ...        NaN   \n",
            "1   ham                      Ok lar... Joking wif u oni...        NaN   \n",
            "2  spam  Free entry in 2 a wkly comp to win FA Cup fina...        NaN   \n",
            "3   ham  U dun say so early hor... U c already then say...        NaN   \n",
            "4   ham  Nah I don't think he goes to usf, he lives aro...        NaN   \n",
            "\n",
            "  Unnamed: 3 Unnamed: 4  \n",
            "0        NaN        NaN  \n",
            "1        NaN        NaN  \n",
            "2        NaN        NaN  \n",
            "3        NaN        NaN  \n",
            "4        NaN        NaN  \n"
          ]
        }
      ],
      "source": [
        "import pandas as pd\n",
        "data_path = '/content/spam.csv'\n",
        "email_data = pd.read_csv(data_path, encoding='latin-1')\n",
        "print(email_data.head())\n"
      ]
    },
    {
      "cell_type": "code",
      "source": [
        "email_data = email_data[['v1', 'v2']]\n",
        "email_data.columns = ['Label', 'MessageContent']\n",
        "email_data['Label'] = email_data['Label'].map({'spam': 1, 'ham': 0})\n",
        "print(email_data.isnull().sum())\n"
      ],
      "metadata": {
        "colab": {
          "base_uri": "https://localhost:8080/"
        },
        "id": "lF5zcFGN6W7_",
        "outputId": "5a445ee3-eac7-4a46-bcba-244aca8d8c2d"
      },
      "execution_count": null,
      "outputs": [
        {
          "output_type": "stream",
          "name": "stdout",
          "text": [
            "Label             0\n",
            "MessageContent    0\n",
            "dtype: int64\n"
          ]
        },
        {
          "output_type": "stream",
          "name": "stderr",
          "text": [
            "<ipython-input-20-f8cd8835df79>:8: SettingWithCopyWarning: \n",
            "A value is trying to be set on a copy of a slice from a DataFrame.\n",
            "Try using .loc[row_indexer,col_indexer] = value instead\n",
            "\n",
            "See the caveats in the documentation: https://pandas.pydata.org/pandas-docs/stable/user_guide/indexing.html#returning-a-view-versus-a-copy\n",
            "  email_data['Label'] = email_data['Label'].map({'spam': 1, 'ham': 0})\n"
          ]
        }
      ]
    },
    {
      "cell_type": "code",
      "source": [
        "from sklearn.model_selection import train_test_split\n",
        "\n",
        "X_data = email_data['MessageContent']\n",
        "y_data = email_data['Label']\n",
        "\n",
        "X_train_set, X_test_set, y_train_set, y_test_set = train_test_split(X_data, y_data, test_size=0.2, random_state=42)\n",
        "\n",
        "\n",
        "print(f\"Training samples: {X_train_set.shape[0]}\")\n",
        "print(f\"Testing samples: {X_test_set.shape[0]}\")\n"
      ],
      "metadata": {
        "colab": {
          "base_uri": "https://localhost:8080/"
        },
        "id": "KP7GKO3C6YsO",
        "outputId": "b13086ec-abbd-4d68-9f22-e4ba797561d0"
      },
      "execution_count": null,
      "outputs": [
        {
          "output_type": "stream",
          "name": "stdout",
          "text": [
            "Training samples: 4457\n",
            "Testing samples: 1115\n"
          ]
        }
      ]
    },
    {
      "cell_type": "code",
      "source": [
        "from sklearn.feature_extraction.text import TfidfVectorizer\n",
        "\n",
        "\n",
        "vectorizer = TfidfVectorizer(stop_words='english', max_df=0.7)\n",
        "\n",
        "X_train_tfidf_set = vectorizer.fit_transform(X_train_set)\n",
        "X_test_tfidf_set = vectorizer.transform(X_test_set)\n",
        "\n",
        "print(f\"TF-IDF Training features shape: {X_train_tfidf_set.shape}\")\n",
        "print(f\"TF-IDF Testing features shape: {X_test_tfidf_set.shape}\")\n"
      ],
      "metadata": {
        "colab": {
          "base_uri": "https://localhost:8080/"
        },
        "id": "UVNMFFuJ6cc0",
        "outputId": "ed2942ad-6164-467c-dd35-5de4ff5a7441"
      },
      "execution_count": null,
      "outputs": [
        {
          "output_type": "stream",
          "name": "stdout",
          "text": [
            "TF-IDF Training features shape: (4457, 7472)\n",
            "TF-IDF Testing features shape: (1115, 7472)\n"
          ]
        }
      ]
    },
    {
      "cell_type": "code",
      "source": [
        "from sklearn.naive_bayes import MultinomialNB\n",
        "from sklearn.metrics import accuracy_score, classification_report\n",
        "\n",
        "spam_detector_model = MultinomialNB()\n",
        "spam_detector_model.fit(X_train_tfidf_set, y_train_set)\n",
        "\n",
        "y_predicted = spam_detector_model.predict(X_test_tfidf_set)\n",
        "\n",
        "model_accuracy = accuracy_score(y_test_set, y_predicted)\n",
        "print(f\"Model Accuracy: {model_accuracy * 100:.2f}%\")\n",
        "print(\"\\nClassification Report:\")\n",
        "print(classification_report(y_test_set, y_predicted))\n"
      ],
      "metadata": {
        "colab": {
          "base_uri": "https://localhost:8080/"
        },
        "id": "jHnaA6wo6g3h",
        "outputId": "4cf4f08b-7269-4d57-80fc-f745e4085ebc"
      },
      "execution_count": null,
      "outputs": [
        {
          "output_type": "stream",
          "name": "stdout",
          "text": [
            "Model Accuracy: 96.68%\n",
            "\n",
            "Classification Report:\n",
            "              precision    recall  f1-score   support\n",
            "\n",
            "           0       0.96      1.00      0.98       965\n",
            "           1       1.00      0.75      0.86       150\n",
            "\n",
            "    accuracy                           0.97      1115\n",
            "   macro avg       0.98      0.88      0.92      1115\n",
            "weighted avg       0.97      0.97      0.96      1115\n",
            "\n"
          ]
        }
      ]
    },
    {
      "cell_type": "code",
      "source": [
        "import joblib\n",
        "\n",
        "joblib.dump(spam_detector_model, 'spam_classifier_model.pkl')\n",
        "joblib.dump(vectorizer, 'tfidf_vectorizer.pkl')\n",
        "\n"
      ],
      "metadata": {
        "colab": {
          "base_uri": "https://localhost:8080/"
        },
        "id": "GJVgedAL6nj-",
        "outputId": "4186df94-f19f-45fc-91d0-16514791b1ca"
      },
      "execution_count": null,
      "outputs": [
        {
          "output_type": "execute_result",
          "data": {
            "text/plain": [
              "['tfidf_vectorizer.pkl']"
            ]
          },
          "metadata": {},
          "execution_count": 6
        }
      ]
    },
    {
      "cell_type": "code",
      "source": [
        "def classify_new_email(email_content):\n",
        "\n",
        "    email_tfidf_transformed = vectorizer.transform([email_content])\n",
        "    prediction_result = spam_detector_model.predict(email_tfidf_transformed)\n",
        "\n",
        "    return 'Spam' if prediction_result[0] == 1 else 'Not Spam'\n",
        "\n",
        "test_email = \"You've been selected for a free vacation! Click to claim.\"\n",
        "classification_result = classify_new_email(test_email)\n",
        "print(f\"The email is: {classification_result}\")\n"
      ],
      "metadata": {
        "colab": {
          "base_uri": "https://localhost:8080/"
        },
        "id": "oZmEKHrg6uWn",
        "outputId": "e7ca6bb7-c079-4032-9f9f-df077b0891a9"
      },
      "execution_count": null,
      "outputs": [
        {
          "output_type": "stream",
          "name": "stdout",
          "text": [
            "The email is: Spam\n"
          ]
        }
      ]
    }
  ]
}